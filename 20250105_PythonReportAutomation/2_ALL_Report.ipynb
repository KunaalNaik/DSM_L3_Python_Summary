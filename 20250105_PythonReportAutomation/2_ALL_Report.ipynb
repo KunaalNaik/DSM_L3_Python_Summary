{
 "cells": [
  {
   "cell_type": "markdown",
   "id": "c288c298-2d96-4523-b026-d4dcbde824f8",
   "metadata": {},
   "source": [
    "# 1/ Import Packages"
   ]
  },
  {
   "cell_type": "code",
   "execution_count": 13,
   "id": "6170c075-2707-4f20-9451-0cf9558b850d",
   "metadata": {},
   "outputs": [],
   "source": [
    "#!pip install pandas"
   ]
  },
  {
   "cell_type": "code",
   "execution_count": 76,
   "id": "cf4f552a-a489-4e18-8c0b-4f6ecc9bb8c8",
   "metadata": {},
   "outputs": [],
   "source": [
    "import pandas as pd\n",
    "import re\n",
    "from datetime import datetime"
   ]
  },
  {
   "cell_type": "markdown",
   "id": "cc7a33fc-31d1-4daa-877f-081f07deb75e",
   "metadata": {},
   "source": [
    "# 2/ Import Data"
   ]
  },
  {
   "cell_type": "code",
   "execution_count": 6,
   "id": "c458101f-eeb9-42dd-8b45-0c67523ff029",
   "metadata": {},
   "outputs": [],
   "source": [
    "df = pd.read_csv('input/CEO.csv')"
   ]
  },
  {
   "cell_type": "code",
   "execution_count": 11,
   "id": "7a650c9a-9652-434a-a3f9-6d65a5b43d5f",
   "metadata": {},
   "outputs": [
    {
     "name": "stdout",
     "output_type": "stream",
     "text": [
      "<class 'pandas.core.frame.DataFrame'>\n",
      "RangeIndex: 10 entries, 0 to 9\n",
      "Data columns (total 8 columns):\n",
      " #   Column                       Non-Null Count  Dtype  \n",
      "---  ------                       --------------  -----  \n",
      " 0   Quarter                      10 non-null     object \n",
      " 1   Overall Revenue Growth       10 non-null     float64\n",
      " 2   Market Share                 10 non-null     float64\n",
      " 3   Employee Engagement Score    10 non-null     float64\n",
      " 4   Customer Satisfaction Score  10 non-null     float64\n",
      " 5   Revenue                      10 non-null     int64  \n",
      " 6   Cost                         10 non-null     int64  \n",
      " 7   Profit                       10 non-null     int64  \n",
      "dtypes: float64(4), int64(3), object(1)\n",
      "memory usage: 768.0+ bytes\n"
     ]
    }
   ],
   "source": [
    "df.info()"
   ]
  },
  {
   "cell_type": "markdown",
   "id": "e5b58fe5-cb44-48cd-b265-16da5735e8f0",
   "metadata": {},
   "source": [
    "# 3/ Clean Column Names"
   ]
  },
  {
   "cell_type": "code",
   "execution_count": 31,
   "id": "f580d167-222f-41e1-8ab7-fd64e4e7c1b8",
   "metadata": {},
   "outputs": [],
   "source": [
    "def sanitize_column_names(df):\n",
    "    \"\"\"\n",
    "    Takes a DataFrame and sanitizes column names to be lowercase, without special characters,\n",
    "    and replaces spaces with underscores. The changes are made directly to the DataFrame.\n",
    "\n",
    "    Parameters:\n",
    "        df (pd.DataFrame): Input DataFrame\n",
    "\n",
    "    Returns:\n",
    "        pd.DataFrame: DataFrame with sanitized column names\n",
    "    \"\"\"\n",
    "    def sanitize(name):\n",
    "        # Replace spaces with underscores\n",
    "        name = name.replace(\" \", \"_\")\n",
    "        # Remove special characters except underscores\n",
    "        name = re.sub(r'[^a-zA-Z0-9_]', '', name)\n",
    "        # Convert to lowercase\n",
    "        return name.lower()\n",
    "\n",
    "    df.columns = [sanitize(col) for col in df.columns]\n",
    "    return df"
   ]
  },
  {
   "cell_type": "code",
   "execution_count": 37,
   "id": "c0bfcb27-1dd0-4fbb-b451-ef54f3e3d572",
   "metadata": {},
   "outputs": [
    {
     "data": {
      "text/html": [
       "<div>\n",
       "<style scoped>\n",
       "    .dataframe tbody tr th:only-of-type {\n",
       "        vertical-align: middle;\n",
       "    }\n",
       "\n",
       "    .dataframe tbody tr th {\n",
       "        vertical-align: top;\n",
       "    }\n",
       "\n",
       "    .dataframe thead th {\n",
       "        text-align: right;\n",
       "    }\n",
       "</style>\n",
       "<table border=\"1\" class=\"dataframe\">\n",
       "  <thead>\n",
       "    <tr style=\"text-align: right;\">\n",
       "      <th></th>\n",
       "      <th>quarter</th>\n",
       "      <th>overall_revenue_growth</th>\n",
       "      <th>market_share</th>\n",
       "      <th>employee_engagement_score</th>\n",
       "      <th>customer_satisfaction_score</th>\n",
       "      <th>revenue</th>\n",
       "      <th>cost</th>\n",
       "      <th>profit</th>\n",
       "    </tr>\n",
       "  </thead>\n",
       "  <tbody>\n",
       "    <tr>\n",
       "      <th>0</th>\n",
       "      <td>2022-Q1</td>\n",
       "      <td>0.05</td>\n",
       "      <td>0.15</td>\n",
       "      <td>0.70</td>\n",
       "      <td>0.85</td>\n",
       "      <td>105000</td>\n",
       "      <td>70000</td>\n",
       "      <td>35000</td>\n",
       "    </tr>\n",
       "    <tr>\n",
       "      <th>1</th>\n",
       "      <td>2022-Q2</td>\n",
       "      <td>0.07</td>\n",
       "      <td>0.16</td>\n",
       "      <td>0.72</td>\n",
       "      <td>0.87</td>\n",
       "      <td>112350</td>\n",
       "      <td>73500</td>\n",
       "      <td>38850</td>\n",
       "    </tr>\n",
       "    <tr>\n",
       "      <th>2</th>\n",
       "      <td>2022-Q3</td>\n",
       "      <td>0.06</td>\n",
       "      <td>0.17</td>\n",
       "      <td>0.74</td>\n",
       "      <td>0.89</td>\n",
       "      <td>119091</td>\n",
       "      <td>77000</td>\n",
       "      <td>42091</td>\n",
       "    </tr>\n",
       "    <tr>\n",
       "      <th>3</th>\n",
       "      <td>2022-Q4</td>\n",
       "      <td>0.08</td>\n",
       "      <td>0.18</td>\n",
       "      <td>0.76</td>\n",
       "      <td>0.90</td>\n",
       "      <td>128618</td>\n",
       "      <td>80500</td>\n",
       "      <td>48118</td>\n",
       "    </tr>\n",
       "    <tr>\n",
       "      <th>4</th>\n",
       "      <td>2023-Q1</td>\n",
       "      <td>0.10</td>\n",
       "      <td>0.19</td>\n",
       "      <td>0.78</td>\n",
       "      <td>0.91</td>\n",
       "      <td>141480</td>\n",
       "      <td>84000</td>\n",
       "      <td>57480</td>\n",
       "    </tr>\n",
       "    <tr>\n",
       "      <th>5</th>\n",
       "      <td>2023-Q2</td>\n",
       "      <td>0.09</td>\n",
       "      <td>0.20</td>\n",
       "      <td>0.80</td>\n",
       "      <td>0.92</td>\n",
       "      <td>154213</td>\n",
       "      <td>87500</td>\n",
       "      <td>66713</td>\n",
       "    </tr>\n",
       "    <tr>\n",
       "      <th>6</th>\n",
       "      <td>2023-Q3</td>\n",
       "      <td>0.11</td>\n",
       "      <td>0.21</td>\n",
       "      <td>0.82</td>\n",
       "      <td>0.93</td>\n",
       "      <td>171177</td>\n",
       "      <td>91000</td>\n",
       "      <td>80177</td>\n",
       "    </tr>\n",
       "    <tr>\n",
       "      <th>7</th>\n",
       "      <td>2023-Q4</td>\n",
       "      <td>0.12</td>\n",
       "      <td>0.22</td>\n",
       "      <td>0.84</td>\n",
       "      <td>0.94</td>\n",
       "      <td>191718</td>\n",
       "      <td>94500</td>\n",
       "      <td>97218</td>\n",
       "    </tr>\n",
       "    <tr>\n",
       "      <th>8</th>\n",
       "      <td>2024-Q1</td>\n",
       "      <td>0.13</td>\n",
       "      <td>0.23</td>\n",
       "      <td>0.86</td>\n",
       "      <td>0.95</td>\n",
       "      <td>216641</td>\n",
       "      <td>98000</td>\n",
       "      <td>118641</td>\n",
       "    </tr>\n",
       "    <tr>\n",
       "      <th>9</th>\n",
       "      <td>2024-Q2</td>\n",
       "      <td>0.14</td>\n",
       "      <td>0.24</td>\n",
       "      <td>0.88</td>\n",
       "      <td>0.96</td>\n",
       "      <td>246971</td>\n",
       "      <td>101500</td>\n",
       "      <td>145471</td>\n",
       "    </tr>\n",
       "  </tbody>\n",
       "</table>\n",
       "</div>"
      ],
      "text/plain": [
       "   quarter  overall_revenue_growth  market_share  employee_engagement_score  \\\n",
       "0  2022-Q1                    0.05          0.15                       0.70   \n",
       "1  2022-Q2                    0.07          0.16                       0.72   \n",
       "2  2022-Q3                    0.06          0.17                       0.74   \n",
       "3  2022-Q4                    0.08          0.18                       0.76   \n",
       "4  2023-Q1                    0.10          0.19                       0.78   \n",
       "5  2023-Q2                    0.09          0.20                       0.80   \n",
       "6  2023-Q3                    0.11          0.21                       0.82   \n",
       "7  2023-Q4                    0.12          0.22                       0.84   \n",
       "8  2024-Q1                    0.13          0.23                       0.86   \n",
       "9  2024-Q2                    0.14          0.24                       0.88   \n",
       "\n",
       "   customer_satisfaction_score  revenue    cost  profit  \n",
       "0                         0.85   105000   70000   35000  \n",
       "1                         0.87   112350   73500   38850  \n",
       "2                         0.89   119091   77000   42091  \n",
       "3                         0.90   128618   80500   48118  \n",
       "4                         0.91   141480   84000   57480  \n",
       "5                         0.92   154213   87500   66713  \n",
       "6                         0.93   171177   91000   80177  \n",
       "7                         0.94   191718   94500   97218  \n",
       "8                         0.95   216641   98000  118641  \n",
       "9                         0.96   246971  101500  145471  "
      ]
     },
     "execution_count": 37,
     "metadata": {},
     "output_type": "execute_result"
    }
   ],
   "source": [
    "sanitize_column_names(df)"
   ]
  },
  {
   "cell_type": "code",
   "execution_count": 39,
   "id": "00ab556f-b5cf-4fac-9333-4fdf8ac393bf",
   "metadata": {},
   "outputs": [
    {
     "name": "stdout",
     "output_type": "stream",
     "text": [
      "<class 'pandas.core.frame.DataFrame'>\n",
      "RangeIndex: 10 entries, 0 to 9\n",
      "Data columns (total 8 columns):\n",
      " #   Column                       Non-Null Count  Dtype  \n",
      "---  ------                       --------------  -----  \n",
      " 0   quarter                      10 non-null     object \n",
      " 1   overall_revenue_growth       10 non-null     float64\n",
      " 2   market_share                 10 non-null     float64\n",
      " 3   employee_engagement_score    10 non-null     float64\n",
      " 4   customer_satisfaction_score  10 non-null     float64\n",
      " 5   revenue                      10 non-null     int64  \n",
      " 6   cost                         10 non-null     int64  \n",
      " 7   profit                       10 non-null     int64  \n",
      "dtypes: float64(4), int64(3), object(1)\n",
      "memory usage: 768.0+ bytes\n"
     ]
    }
   ],
   "source": [
    "df.info()"
   ]
  },
  {
   "cell_type": "markdown",
   "id": "140bbd54-c913-497f-ac53-80fd85ddd575",
   "metadata": {},
   "source": [
    "# 4/ Create Summary"
   ]
  },
  {
   "cell_type": "code",
   "execution_count": 66,
   "id": "f5aa02fa-37c2-4c26-9153-90cfc3a9b00e",
   "metadata": {},
   "outputs": [
    {
     "data": {
      "text/html": [
       "<div>\n",
       "<style scoped>\n",
       "    .dataframe tbody tr th:only-of-type {\n",
       "        vertical-align: middle;\n",
       "    }\n",
       "\n",
       "    .dataframe tbody tr th {\n",
       "        vertical-align: top;\n",
       "    }\n",
       "\n",
       "    .dataframe thead th {\n",
       "        text-align: right;\n",
       "    }\n",
       "</style>\n",
       "<table border=\"1\" class=\"dataframe\">\n",
       "  <thead>\n",
       "    <tr style=\"text-align: right;\">\n",
       "      <th>quarter</th>\n",
       "      <th>2023-Q2</th>\n",
       "      <th>2023-Q3</th>\n",
       "      <th>2023-Q4</th>\n",
       "      <th>2024-Q1</th>\n",
       "      <th>2024-Q2</th>\n",
       "    </tr>\n",
       "  </thead>\n",
       "  <tbody>\n",
       "    <tr>\n",
       "      <th>overall_revenue_growth</th>\n",
       "      <td>0.09</td>\n",
       "      <td>0.11</td>\n",
       "      <td>0.12</td>\n",
       "      <td>0.13</td>\n",
       "      <td>0.14</td>\n",
       "    </tr>\n",
       "    <tr>\n",
       "      <th>market_share</th>\n",
       "      <td>0.20</td>\n",
       "      <td>0.21</td>\n",
       "      <td>0.22</td>\n",
       "      <td>0.23</td>\n",
       "      <td>0.24</td>\n",
       "    </tr>\n",
       "    <tr>\n",
       "      <th>employee_engagement_score</th>\n",
       "      <td>0.80</td>\n",
       "      <td>0.82</td>\n",
       "      <td>0.84</td>\n",
       "      <td>0.86</td>\n",
       "      <td>0.88</td>\n",
       "    </tr>\n",
       "    <tr>\n",
       "      <th>customer_satisfaction_score</th>\n",
       "      <td>0.92</td>\n",
       "      <td>0.93</td>\n",
       "      <td>0.94</td>\n",
       "      <td>0.95</td>\n",
       "      <td>0.96</td>\n",
       "    </tr>\n",
       "    <tr>\n",
       "      <th>revenue</th>\n",
       "      <td>154213.00</td>\n",
       "      <td>171177.00</td>\n",
       "      <td>191718.00</td>\n",
       "      <td>216641.00</td>\n",
       "      <td>246971.00</td>\n",
       "    </tr>\n",
       "    <tr>\n",
       "      <th>cost</th>\n",
       "      <td>87500.00</td>\n",
       "      <td>91000.00</td>\n",
       "      <td>94500.00</td>\n",
       "      <td>98000.00</td>\n",
       "      <td>101500.00</td>\n",
       "    </tr>\n",
       "    <tr>\n",
       "      <th>profit</th>\n",
       "      <td>66713.00</td>\n",
       "      <td>80177.00</td>\n",
       "      <td>97218.00</td>\n",
       "      <td>118641.00</td>\n",
       "      <td>145471.00</td>\n",
       "    </tr>\n",
       "  </tbody>\n",
       "</table>\n",
       "</div>"
      ],
      "text/plain": [
       "quarter                        2023-Q2    2023-Q3    2023-Q4    2024-Q1  \\\n",
       "overall_revenue_growth            0.09       0.11       0.12       0.13   \n",
       "market_share                      0.20       0.21       0.22       0.23   \n",
       "employee_engagement_score         0.80       0.82       0.84       0.86   \n",
       "customer_satisfaction_score       0.92       0.93       0.94       0.95   \n",
       "revenue                      154213.00  171177.00  191718.00  216641.00   \n",
       "cost                          87500.00   91000.00   94500.00   98000.00   \n",
       "profit                        66713.00   80177.00   97218.00  118641.00   \n",
       "\n",
       "quarter                        2024-Q2  \n",
       "overall_revenue_growth            0.14  \n",
       "market_share                      0.24  \n",
       "employee_engagement_score         0.88  \n",
       "customer_satisfaction_score       0.96  \n",
       "revenue                      246971.00  \n",
       "cost                         101500.00  \n",
       "profit                       145471.00  "
      ]
     },
     "execution_count": 66,
     "metadata": {},
     "output_type": "execute_result"
    }
   ],
   "source": [
    "df_report = df.groupby('quarter').sum().tail().transpose()\n",
    "df_report"
   ]
  },
  {
   "cell_type": "markdown",
   "id": "58ec4af2-8153-4a04-979d-1f14c1912055",
   "metadata": {},
   "source": [
    "# 5/ Export Report"
   ]
  },
  {
   "cell_type": "code",
   "execution_count": 93,
   "id": "88d8648f-bfb1-4aea-87ce-24d9bac2ffb0",
   "metadata": {},
   "outputs": [],
   "source": [
    "def export_dataframe_with_timestamp(df, filename_prefix=\"ceo_report\"):\n",
    "    \"\"\"\n",
    "    Exports the given DataFrame to a CSV file in the output folder with a timestamped filename.\n",
    "\n",
    "    Parameters:\n",
    "        df (pd.DataFrame): The DataFrame to export.\n",
    "        filename_prefix (str): The prefix for the output file name.\n",
    "\n",
    "    Returns:\n",
    "        None\n",
    "    \"\"\"\n",
    "    timestamp = datetime.now().strftime(\"%Y%m%d_%H%M%S\")\n",
    "    output_path = f'output/{timestamp}_{filename_prefix}.csv'\n",
    "    df.to_csv(output_path)\n",
    "    print(f\"File exported to {output_path}\")"
   ]
  },
  {
   "cell_type": "code",
   "execution_count": 95,
   "id": "ded6edb9-a223-41af-ba59-e175ea01b469",
   "metadata": {},
   "outputs": [
    {
     "name": "stdout",
     "output_type": "stream",
     "text": [
      "File exported to output/20250105_162622_ceo_report.csv\n"
     ]
    }
   ],
   "source": [
    "export_dataframe_with_timestamp(df_report, \"ceo_report\")"
   ]
  },
  {
   "cell_type": "code",
   "execution_count": null,
   "id": "40cfbbd6-dc63-4485-8636-83ddc2c2ff53",
   "metadata": {},
   "outputs": [],
   "source": []
  }
 ],
 "metadata": {
  "kernelspec": {
   "display_name": "Python 3 (ipykernel)",
   "language": "python",
   "name": "python3"
  },
  "language_info": {
   "codemirror_mode": {
    "name": "ipython",
    "version": 3
   },
   "file_extension": ".py",
   "mimetype": "text/x-python",
   "name": "python",
   "nbconvert_exporter": "python",
   "pygments_lexer": "ipython3",
   "version": "3.10.13"
  }
 },
 "nbformat": 4,
 "nbformat_minor": 5
}
