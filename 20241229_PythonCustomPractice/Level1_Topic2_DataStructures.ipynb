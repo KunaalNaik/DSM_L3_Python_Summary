{
 "cells": [
  {
   "cell_type": "markdown",
   "id": "bbb4310b-edfc-49c6-856d-c297f0ccee25",
   "metadata": {},
   "source": [
    "### **Stage 1: Data Structures Problem Statements**  \n",
    "Below are 10 progressively challenging problem statements. Each includes a scenario, starter code, and clear instructions. "
   ]
  },
  {
   "cell_type": "markdown",
   "id": "e785f8ab-3115-44b8-99e1-e3965ec6e7cc",
   "metadata": {},
   "source": [
    "### **Topic: Lists**\n",
    "\n",
    "#### **1. Easy Problem - Creating a To-Do List**  \n",
    "**Scenario:** You are building a simple to-do list app. Each task in the list is represented as a string.  \n",
    "\n",
    "**Starter Code:**  "
   ]
  },
  {
   "cell_type": "code",
   "execution_count": 11,
   "id": "d50aaa29-45bc-49e5-8e22-85d452456524",
   "metadata": {},
   "outputs": [],
   "source": [
    "tasks = []"
   ]
  },
  {
   "cell_type": "code",
   "execution_count": null,
   "id": "e995280a-8977-4faf-a3fa-6b97a3242916",
   "metadata": {},
   "outputs": [],
   "source": [
    "# Solution\n"
   ]
  },
  {
   "cell_type": "markdown",
   "id": "fc12372c-df22-4d2e-8f53-02be9c7822e8",
   "metadata": {},
   "source": [
    "**Problem Statement:**  \n",
    "1. Add three tasks to the list: \"Buy groceries\", \"Clean room\", \"Finish project\".  \n",
    "2. Print the list after adding the tasks.  "
   ]
  },
  {
   "cell_type": "markdown",
   "id": "8e33b674-0b28-48c0-953e-d515cc63c730",
   "metadata": {},
   "source": [
    "#### **2. Medium Problem - Task Organizer**  \n",
    "**Scenario:** The to-do list app now needs to sort tasks by priority. Tasks starting with \"!\" are high priority.  \n",
    "\n",
    "**Starter Code:**  "
   ]
  },
  {
   "cell_type": "code",
   "execution_count": null,
   "id": "6a24e7f7-4813-47bb-ba31-dccf3fc4dfef",
   "metadata": {},
   "outputs": [],
   "source": [
    "tasks = [\"Clean room\", \"!Pay bills\", \"Buy groceries\", \"!Submit report\"]"
   ]
  },
  {
   "cell_type": "code",
   "execution_count": null,
   "id": "e7225a35-1f2d-4517-93b0-e18690f6c516",
   "metadata": {},
   "outputs": [],
   "source": []
  },
  {
   "cell_type": "markdown",
   "id": "bc3e559b-3349-4f07-8f53-2d70bb9f1dd2",
   "metadata": {},
   "source": [
    "**Problem Statement:**  \n",
    "1. Separate high-priority tasks (those starting with \"!\") into a new list.  \n",
    "2. Print the high-priority list and the remaining tasks.  "
   ]
  },
  {
   "cell_type": "markdown",
   "id": "f3da00a6-2db4-487a-be43-717250b0601e",
   "metadata": {},
   "source": [
    "### **Topic: Dictionaries**\n",
    "\n",
    "#### **3. Easy Problem - Contact Book**  \n",
    "**Scenario:** You are creating a contact book where each contact is stored as a key-value pair with names as keys and phone numbers as values.  "
   ]
  },
  {
   "cell_type": "code",
   "execution_count": null,
   "id": "b87898d7-edc7-4275-a838-9cb3fc541f13",
   "metadata": {},
   "outputs": [],
   "source": [
    "contacts = {}"
   ]
  },
  {
   "cell_type": "code",
   "execution_count": null,
   "id": "d6f567ea-2631-452d-b8d8-d9640f2443df",
   "metadata": {},
   "outputs": [],
   "source": []
  },
  {
   "cell_type": "markdown",
   "id": "df009c3c-cda0-40e8-a07e-3162bda0f551",
   "metadata": {},
   "source": [
    "**Problem Statement:**  \n",
    "1. Add the following contacts to the dictionary: \"Alice: 1234567890\", \"Bob: 9876543210\".  \n",
    "2. Retrieve and print Bob's phone number.  "
   ]
  },
  {
   "cell_type": "markdown",
   "id": "dd98595c-58d7-43b3-951c-efac3e625300",
   "metadata": {},
   "source": [
    "#### **4. Medium Problem - Contact Search**  \n",
    "**Scenario:** You want to search for contacts by their phone number.  \n",
    "\n",
    "**Starter Code:**  "
   ]
  },
  {
   "cell_type": "code",
   "execution_count": null,
   "id": "755fafae-90e7-4a9f-9c15-c1cd696ec568",
   "metadata": {},
   "outputs": [],
   "source": [
    "contacts = {\n",
    "    \"Alice\": \"1234567890\",\n",
    "    \"Bob\": \"9876543210\",\n",
    "    \"Charlie\": \"1122334455\"\n",
    "}"
   ]
  },
  {
   "cell_type": "code",
   "execution_count": null,
   "id": "1096853e-e8e4-41a7-b509-fd76b31bd1e4",
   "metadata": {},
   "outputs": [],
   "source": []
  },
  {
   "cell_type": "markdown",
   "id": "5446a0ad-cda0-4aac-803a-b0a0be2cfcd6",
   "metadata": {},
   "source": [
    "**Problem Statement:**  \n",
    "1. Write a function `find_contact(phone_number)` to return the name of the contact given a phone number.  \n",
    "2. Test the function with the input `\"9876543210\"`.  "
   ]
  },
  {
   "cell_type": "markdown",
   "id": "330c8344-b41b-454d-afdf-c0efb66458f5",
   "metadata": {},
   "source": [
    "### **Topic: Tuples**\n",
    "\n",
    "#### **5. Easy Problem - Coordinate Storage**  \n",
    "**Scenario:** A GPS app stores locations as tuples of latitude and longitude.  \n",
    "\n",
    "**Starter Code:**  "
   ]
  },
  {
   "cell_type": "code",
   "execution_count": null,
   "id": "3160d4eb-b682-4542-952d-ce0ae793be96",
   "metadata": {},
   "outputs": [],
   "source": [
    "locations = []"
   ]
  },
  {
   "cell_type": "code",
   "execution_count": null,
   "id": "36f94b0a-d6ba-4b27-aea3-2e33a70d1688",
   "metadata": {},
   "outputs": [],
   "source": []
  },
  {
   "cell_type": "markdown",
   "id": "6d3124a9-6402-4f41-9c1f-78f15fedf308",
   "metadata": {},
   "source": [
    "**Problem Statement:**  \n",
    "1. Add three locations to the list as tuples: (12.9716, 77.5946), (28.7041, 77.1025), (19.0760, 72.8777).  \n",
    "2. Print the list of locations.  "
   ]
  },
  {
   "cell_type": "markdown",
   "id": "62c3e7c1-7cbb-4540-83e8-d02d6272b17f",
   "metadata": {},
   "source": [
    "#### **6. Medium Problem - Distance Calculator**  \n",
    "**Scenario:** The GPS app now needs to find the closest location to a given point.  \n",
    "\n",
    "**Starter Code:**  "
   ]
  },
  {
   "cell_type": "code",
   "execution_count": null,
   "id": "3b3fe798-6546-4ecb-8dc8-601d3074214d",
   "metadata": {},
   "outputs": [],
   "source": [
    "locations = [(12.9716, 77.5946), (28.7041, 77.1025), (19.0760, 72.8777)]\n",
    "current_location = (13.0827, 80.2707)  # Example current location"
   ]
  },
  {
   "cell_type": "code",
   "execution_count": null,
   "id": "c283a279-cec6-4980-a6bb-6c790efd103b",
   "metadata": {},
   "outputs": [],
   "source": []
  },
  {
   "cell_type": "markdown",
   "id": "09aa264c-2b51-438c-9c58-dcd983d5310d",
   "metadata": {},
   "source": [
    "**Problem Statement:**  \n",
    "1. Write a function `find_closest(locations, current_location)` to find and return the closest location.  \n",
    "2. Test it with the given `current_location`.  "
   ]
  },
  {
   "cell_type": "markdown",
   "id": "e2521c00-40b9-4943-a18f-c659ca376199",
   "metadata": {},
   "source": [
    "### **Topic: Sets**\n",
    "\n",
    "#### **7. Easy Problem - Unique Visitors**  \n",
    "**Scenario:** A website tracks visitors using their IP addresses.  \n",
    "\n",
    "**Starter Code:**  "
   ]
  },
  {
   "cell_type": "code",
   "execution_count": null,
   "id": "216621ca-cc1a-46fd-ac9c-681c5166eab4",
   "metadata": {},
   "outputs": [],
   "source": [
    "visitors = set()"
   ]
  },
  {
   "cell_type": "code",
   "execution_count": null,
   "id": "d668a66e-257b-45b8-9528-aac9d1a85e84",
   "metadata": {},
   "outputs": [],
   "source": []
  },
  {
   "cell_type": "markdown",
   "id": "f527c80d-15c7-4bd1-8296-5332a4175d9d",
   "metadata": {},
   "source": [
    "**Problem Statement:**  \n",
    "1. Add the following IPs to the set: \"192.168.1.1\", \"192.168.1.2\", \"192.168.1.1\", \"192.168.1.3\".  \n",
    "2. Print the unique visitor count.  "
   ]
  },
  {
   "cell_type": "markdown",
   "id": "791828e7-3eee-4d5b-b42e-7e276fda7c4a",
   "metadata": {},
   "source": [
    "#### **8. Medium Problem - Common Visitors**  \n",
    "**Scenario:** Find common visitors between two different days.  \n",
    "\n",
    "**Starter Code:**  "
   ]
  },
  {
   "cell_type": "code",
   "execution_count": null,
   "id": "82e264c5-f817-4229-8b34-72d6076f8d9e",
   "metadata": {},
   "outputs": [],
   "source": [
    "day1_visitors = {\"192.168.1.1\", \"192.168.1.2\", \"192.168.1.3\"}\n",
    "day2_visitors = {\"192.168.1.2\", \"192.168.1.4\", \"192.168.1.1\"}"
   ]
  },
  {
   "cell_type": "code",
   "execution_count": null,
   "id": "0ff6a575-886c-4981-8406-464df5c5cc44",
   "metadata": {},
   "outputs": [],
   "source": []
  },
  {
   "cell_type": "markdown",
   "id": "11cdcf0a-87b7-425a-b859-68ef2c22e123",
   "metadata": {},
   "source": [
    "**Problem Statement:**  \n",
    "1. Find and print the set of common visitors between the two days.  \n",
    "2. Find and print the set of visitors unique to each day.  "
   ]
  },
  {
   "cell_type": "markdown",
   "id": "6f93581c-6723-4489-887b-0fba1a0866cd",
   "metadata": {},
   "source": [
    "### **Topic: Strings**\n",
    "\n",
    "#### **9. Easy Problem - Sentence Analyzer**  \n",
    "**Scenario:** Analyze the words in a sentence to count their occurrences.  \n",
    "\n",
    "**Starter Code:**  "
   ]
  },
  {
   "cell_type": "code",
   "execution_count": null,
   "id": "cd2112d5-42cf-44eb-88bd-0c01ec340146",
   "metadata": {},
   "outputs": [],
   "source": [
    "sentence = \"Python is great and Python is easy\""
   ]
  },
  {
   "cell_type": "code",
   "execution_count": null,
   "id": "07995a3b-7528-4aa5-a4ad-9265612c140f",
   "metadata": {},
   "outputs": [],
   "source": []
  },
  {
   "cell_type": "markdown",
   "id": "c4be0443-f05e-49f9-a364-785b1dc86a04",
   "metadata": {},
   "source": [
    "**Problem Statement:**  \n",
    "1. Split the sentence into words and count the frequency of each word using a dictionary.  \n",
    "2. Print the dictionary of word frequencies.  "
   ]
  },
  {
   "cell_type": "markdown",
   "id": "a0b37b79-a5f5-4a00-9336-b8b76370ada9",
   "metadata": {},
   "source": [
    "#### **10. Medium Problem - Anagram Checker**  \n",
    "**Scenario:** Check if two strings are anagrams of each other (contain the same characters in any order).  \n",
    "\n",
    "**Starter Code:**  "
   ]
  },
  {
   "cell_type": "code",
   "execution_count": null,
   "id": "b4a2272d-e268-408d-b327-c1b20d0cb96c",
   "metadata": {},
   "outputs": [],
   "source": [
    "def is_anagram(str1, str2):\n",
    "    pass"
   ]
  },
  {
   "cell_type": "code",
   "execution_count": null,
   "id": "0176edb2-b36e-4f24-bc39-fbaa9bba1af9",
   "metadata": {},
   "outputs": [],
   "source": []
  },
  {
   "cell_type": "markdown",
   "id": "ce1cad68-737f-44dc-b127-0fa27af2c470",
   "metadata": {},
   "source": [
    "**Problem Statement:**  \n",
    "1. Complete the `is_anagram` function to return `True` if the strings are anagrams, otherwise `False`.  \n",
    "2. Test the function with inputs `\"listen\"` and `\"silent\"`."
   ]
  }
 ],
 "metadata": {
  "kernelspec": {
   "display_name": "Python 3 (ipykernel)",
   "language": "python",
   "name": "python3"
  },
  "language_info": {
   "codemirror_mode": {
    "name": "ipython",
    "version": 3
   },
   "file_extension": ".py",
   "mimetype": "text/x-python",
   "name": "python",
   "nbconvert_exporter": "python",
   "pygments_lexer": "ipython3",
   "version": "3.10.13"
  }
 },
 "nbformat": 4,
 "nbformat_minor": 5
}
