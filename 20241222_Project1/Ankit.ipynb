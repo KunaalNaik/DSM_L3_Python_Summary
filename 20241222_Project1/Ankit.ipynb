{
 "cells": [
  {
   "cell_type": "code",
   "execution_count": null,
   "id": "295cbcaa-c3a1-4e8c-be0b-3f333a4c25c4",
   "metadata": {},
   "outputs": [],
   "source": [
    "col_list = ['Segment', 'Region', 'Category', 'Sub-Category']\n",
    "\n",
    "summary_df = pd.DataFrame(columns=['component', 'total_sales'])\n",
    "\n",
    "def get_summary(col, summary_df=None):\n",
    "    result = df.groupby(col)['Sales'].agg(sales=\"sum\").reset_index()\n",
    "    result.columns = ['component', 'total_sales']\n",
    "    \n",
    "    if summary_df is None: \n",
    "        summary_df = pd.DataFrame(columns=['component', 'total_sales'])\n",
    "    \n",
    "    summary_df = pd.concat([summary_df, result], ignore_index=True)\n",
    "    return summary_df"
   ]
  }
 ],
 "metadata": {
  "kernelspec": {
   "display_name": "Python 3 (ipykernel)",
   "language": "python",
   "name": "python3"
  },
  "language_info": {
   "codemirror_mode": {
    "name": "ipython",
    "version": 3
   },
   "file_extension": ".py",
   "mimetype": "text/x-python",
   "name": "python",
   "nbconvert_exporter": "python",
   "pygments_lexer": "ipython3",
   "version": "3.10.13"
  }
 },
 "nbformat": 4,
 "nbformat_minor": 5
}
